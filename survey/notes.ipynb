{
 "cells": [
  {
   "cell_type": "markdown",
   "metadata": {},
   "source": [
    "survey.html\n",
    "name\n",
    "aadhar number\n",
    "pancard\n",
    "passort number\n",
    "address\n",
    "pincode\n",
    "phonenumber\n",
    "date of birth\n",
    "email id\n",
    "usrname\n",
    "password\n",
    "confirm password\n",
    "register button"
   ]
  },
  {
   "cell_type": "markdown",
   "metadata": {},
   "source": [
    "index.html\n",
    "Username\n",
    "password\n",
    "login button"
   ]
  },
  {
   "cell_type": "markdown",
   "metadata": {},
   "source": [
    "form.html\n",
    "surveyer name\n",
    "email address\n",
    "address --> textarea\n",
    "surveyer qualification\n",
    "surveyer remarks --> textarea\n",
    "submit button\n",
    "\n"
   ]
  }
 ],
 "metadata": {
  "kernelspec": {
   "display_name": "Python 3.10.8 64-bit",
   "language": "python",
   "name": "python3"
  },
  "language_info": {
   "codemirror_mode": {
    "name": "ipython",
    "version": 3
   },
   "file_extension": ".py",
   "mimetype": "text/x-python",
   "name": "python",
   "nbconvert_exporter": "python",
   "pygments_lexer": "ipython3",
   "version": "3.10.8"
  },
  "orig_nbformat": 4,
  "vscode": {
   "interpreter": {
    "hash": "8c3d4d9970fc5c09c50d9318a9c7fbf4d0159e4b28833276f5678ee22bded273"
   }
  }
 },
 "nbformat": 4,
 "nbformat_minor": 2
}
